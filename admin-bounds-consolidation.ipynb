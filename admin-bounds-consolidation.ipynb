{
 "cells": [
  {
   "cell_type": "code",
   "execution_count": 1,
   "id": "3a0ea8cb",
   "metadata": {},
   "outputs": [],
   "source": [
    "import geopandas as gpd\n",
    "import os\n",
    "from tqdm import tqdm"
   ]
  },
  {
   "cell_type": "markdown",
   "id": "dc7abd02",
   "metadata": {},
   "source": [
    "## What this notebook is about\n",
    "\n",
    "This notebook consolidates the baranngay and municipality json files into one file each. Files are taken from [this repository](https://github.com/faeldon/philippines-json-maps)"
   ]
  },
  {
   "cell_type": "markdown",
   "id": "bf46a139",
   "metadata": {},
   "source": [
    "# Importing Brgy Data\n",
    "\n",
    "The barangay files were obtained from [this source](https://github.com/faeldon/philippines-json-maps/tree/master/topojson/barangays/hires)"
   ]
  },
  {
   "cell_type": "code",
   "execution_count": 2,
   "id": "24e21c6d",
   "metadata": {},
   "outputs": [
    {
     "data": {
      "text/plain": [
       "1647"
      ]
     },
     "execution_count": 2,
     "metadata": {},
     "output_type": "execute_result"
    }
   ],
   "source": [
    "brgys_folder = 'philippines-json-maps-master/topojson/barangays/hires'\n",
    "brgys_json = os.listdir(brgys_folder)\n",
    "brgys_json = [f\"{brgys_folder}/{fs}\" for fs in brgys_json]\n",
    "len(brgys_json)"
   ]
  },
  {
   "cell_type": "code",
   "execution_count": 3,
   "id": "9ee9c244",
   "metadata": {},
   "outputs": [
    {
     "data": {
      "text/html": [
       "<div>\n",
       "<style scoped>\n",
       "    .dataframe tbody tr th:only-of-type {\n",
       "        vertical-align: middle;\n",
       "    }\n",
       "\n",
       "    .dataframe tbody tr th {\n",
       "        vertical-align: top;\n",
       "    }\n",
       "\n",
       "    .dataframe thead th {\n",
       "        text-align: right;\n",
       "    }\n",
       "</style>\n",
       "<table border=\"1\" class=\"dataframe\">\n",
       "  <thead>\n",
       "    <tr style=\"text-align: right;\">\n",
       "      <th></th>\n",
       "    </tr>\n",
       "  </thead>\n",
       "  <tbody>\n",
       "  </tbody>\n",
       "</table>\n",
       "</div>"
      ],
      "text/plain": [
       "Empty GeoDataFrame\n",
       "Columns: []\n",
       "Index: []"
      ]
     },
     "execution_count": 3,
     "metadata": {},
     "output_type": "execute_result"
    }
   ],
   "source": [
    "brgy_gdf = gpd.GeoDataFrame({})\n",
    "brgy_gdf.head()"
   ]
  },
  {
   "cell_type": "code",
   "execution_count": 4,
   "id": "e53b9334",
   "metadata": {},
   "outputs": [
    {
     "name": "stderr",
     "output_type": "stream",
     "text": [
      "100%|██████████| 1647/1647 [00:42<00:00, 38.39it/s]\n"
     ]
    },
    {
     "data": {
      "text/html": [
       "<div>\n",
       "<style scoped>\n",
       "    .dataframe tbody tr th:only-of-type {\n",
       "        vertical-align: middle;\n",
       "    }\n",
       "\n",
       "    .dataframe tbody tr th {\n",
       "        vertical-align: top;\n",
       "    }\n",
       "\n",
       "    .dataframe thead th {\n",
       "        text-align: right;\n",
       "    }\n",
       "</style>\n",
       "<table border=\"1\" class=\"dataframe\">\n",
       "  <thead>\n",
       "    <tr style=\"text-align: right;\">\n",
       "      <th></th>\n",
       "      <th>id</th>\n",
       "      <th>ADM1_PCODE</th>\n",
       "      <th>ADM1_EN</th>\n",
       "      <th>ADM2_PCODE</th>\n",
       "      <th>ADM2_EN</th>\n",
       "      <th>ADM3_PCODE</th>\n",
       "      <th>ADM3_EN</th>\n",
       "      <th>ADM4_PCODE</th>\n",
       "      <th>ADM4_EN</th>\n",
       "      <th>geometry</th>\n",
       "    </tr>\n",
       "  </thead>\n",
       "  <tbody>\n",
       "    <tr>\n",
       "      <th>0</th>\n",
       "      <td>None</td>\n",
       "      <td>PH040000000</td>\n",
       "      <td>REGION IV-A (CALABARZON)</td>\n",
       "      <td>PH045600000</td>\n",
       "      <td>QUEZON</td>\n",
       "      <td>PH045602000</td>\n",
       "      <td>ALABAT</td>\n",
       "      <td>PH045602001</td>\n",
       "      <td>Angeles</td>\n",
       "      <td>POLYGON ((121.99440 14.11326, 121.99405 14.112...</td>\n",
       "    </tr>\n",
       "    <tr>\n",
       "      <th>1</th>\n",
       "      <td>None</td>\n",
       "      <td>PH040000000</td>\n",
       "      <td>REGION IV-A (CALABARZON)</td>\n",
       "      <td>PH045600000</td>\n",
       "      <td>QUEZON</td>\n",
       "      <td>PH045602000</td>\n",
       "      <td>ALABAT</td>\n",
       "      <td>PH045602002</td>\n",
       "      <td>Bacong</td>\n",
       "      <td>POLYGON ((122.03987 14.14286, 122.03882 14.142...</td>\n",
       "    </tr>\n",
       "    <tr>\n",
       "      <th>2</th>\n",
       "      <td>None</td>\n",
       "      <td>PH040000000</td>\n",
       "      <td>REGION IV-A (CALABARZON)</td>\n",
       "      <td>PH045600000</td>\n",
       "      <td>QUEZON</td>\n",
       "      <td>PH045602000</td>\n",
       "      <td>ALABAT</td>\n",
       "      <td>PH045602003</td>\n",
       "      <td>Balungay</td>\n",
       "      <td>POLYGON ((122.05585 14.08601, 122.05575 14.085...</td>\n",
       "    </tr>\n",
       "    <tr>\n",
       "      <th>3</th>\n",
       "      <td>None</td>\n",
       "      <td>PH040000000</td>\n",
       "      <td>REGION IV-A (CALABARZON)</td>\n",
       "      <td>PH045600000</td>\n",
       "      <td>QUEZON</td>\n",
       "      <td>PH045602000</td>\n",
       "      <td>ALABAT</td>\n",
       "      <td>PH045602004</td>\n",
       "      <td>Buenavista</td>\n",
       "      <td>POLYGON ((122.07112 14.05975, 122.07174 14.059...</td>\n",
       "    </tr>\n",
       "    <tr>\n",
       "      <th>4</th>\n",
       "      <td>None</td>\n",
       "      <td>PH040000000</td>\n",
       "      <td>REGION IV-A (CALABARZON)</td>\n",
       "      <td>PH045600000</td>\n",
       "      <td>QUEZON</td>\n",
       "      <td>PH045602000</td>\n",
       "      <td>ALABAT</td>\n",
       "      <td>PH045602005</td>\n",
       "      <td>Caglate</td>\n",
       "      <td>POLYGON ((122.02153 14.15299, 122.02175 14.149...</td>\n",
       "    </tr>\n",
       "  </tbody>\n",
       "</table>\n",
       "</div>"
      ],
      "text/plain": [
       "     id   ADM1_PCODE                   ADM1_EN   ADM2_PCODE ADM2_EN  \\\n",
       "0  None  PH040000000  REGION IV-A (CALABARZON)  PH045600000  QUEZON   \n",
       "1  None  PH040000000  REGION IV-A (CALABARZON)  PH045600000  QUEZON   \n",
       "2  None  PH040000000  REGION IV-A (CALABARZON)  PH045600000  QUEZON   \n",
       "3  None  PH040000000  REGION IV-A (CALABARZON)  PH045600000  QUEZON   \n",
       "4  None  PH040000000  REGION IV-A (CALABARZON)  PH045600000  QUEZON   \n",
       "\n",
       "    ADM3_PCODE ADM3_EN   ADM4_PCODE     ADM4_EN  \\\n",
       "0  PH045602000  ALABAT  PH045602001     Angeles   \n",
       "1  PH045602000  ALABAT  PH045602002      Bacong   \n",
       "2  PH045602000  ALABAT  PH045602003    Balungay   \n",
       "3  PH045602000  ALABAT  PH045602004  Buenavista   \n",
       "4  PH045602000  ALABAT  PH045602005     Caglate   \n",
       "\n",
       "                                            geometry  \n",
       "0  POLYGON ((121.99440 14.11326, 121.99405 14.112...  \n",
       "1  POLYGON ((122.03987 14.14286, 122.03882 14.142...  \n",
       "2  POLYGON ((122.05585 14.08601, 122.05575 14.085...  \n",
       "3  POLYGON ((122.07112 14.05975, 122.07174 14.059...  \n",
       "4  POLYGON ((122.02153 14.15299, 122.02175 14.149...  "
      ]
     },
     "execution_count": 4,
     "metadata": {},
     "output_type": "execute_result"
    }
   ],
   "source": [
    "# create a geodataframe from that contains all barangays\n",
    "for brgy_json in tqdm(brgys_json):\n",
    "    new_gdf = gpd.GeoDataFrame.from_file(brgy_json)\n",
    "    brgy_gdf = brgy_gdf.append(new_gdf)\n",
    "brgy_gdf.head()"
   ]
  },
  {
   "cell_type": "code",
   "execution_count": 5,
   "id": "10a0400c",
   "metadata": {},
   "outputs": [],
   "source": [
    "# drop null columns\n",
    "if brgy_gdf[\"id\"].isnull().all():\n",
    "    brgy_gdf = brgy_gdf.drop(columns = \"id\")"
   ]
  },
  {
   "cell_type": "code",
   "execution_count": 6,
   "id": "7497f951",
   "metadata": {},
   "outputs": [
    {
     "data": {
      "text/plain": [
       "['ADM1_PCODE',\n",
       " 'ADM1_EN',\n",
       " 'ADM2_PCODE',\n",
       " 'ADM2_EN',\n",
       " 'ADM3_PCODE',\n",
       " 'ADM3_EN',\n",
       " 'ADM4_PCODE',\n",
       " 'ADM4_EN']"
      ]
     },
     "execution_count": 6,
     "metadata": {},
     "output_type": "execute_result"
    }
   ],
   "source": [
    "# these columns will serve as the primary key\n",
    "brgy_cols = [col for col in brgy_gdf.columns if col != \"geometry\"]\n",
    "brgy_cols"
   ]
  },
  {
   "cell_type": "code",
   "execution_count": 7,
   "id": "f251ea41",
   "metadata": {},
   "outputs": [
    {
     "data": {
      "text/html": [
       "<div>\n",
       "<style scoped>\n",
       "    .dataframe tbody tr th:only-of-type {\n",
       "        vertical-align: middle;\n",
       "    }\n",
       "\n",
       "    .dataframe tbody tr th {\n",
       "        vertical-align: top;\n",
       "    }\n",
       "\n",
       "    .dataframe thead th {\n",
       "        text-align: right;\n",
       "    }\n",
       "</style>\n",
       "<table border=\"1\" class=\"dataframe\">\n",
       "  <thead>\n",
       "    <tr style=\"text-align: right;\">\n",
       "      <th></th>\n",
       "      <th>ADM1_PCODE</th>\n",
       "      <th>ADM1_EN</th>\n",
       "      <th>ADM2_PCODE</th>\n",
       "      <th>ADM2_EN</th>\n",
       "      <th>ADM3_PCODE</th>\n",
       "      <th>ADM3_EN</th>\n",
       "      <th>ADM4_PCODE</th>\n",
       "      <th>ADM4_EN</th>\n",
       "      <th>geometry</th>\n",
       "    </tr>\n",
       "  </thead>\n",
       "  <tbody>\n",
       "    <tr>\n",
       "      <th>97</th>\n",
       "      <td>PH090000000</td>\n",
       "      <td>REGION IX (ZAMBOANGA PENINSULA)</td>\n",
       "      <td>PH097300000</td>\n",
       "      <td>ZAMBOANGA DEL SUR</td>\n",
       "      <td>PH097332000</td>\n",
       "      <td>ZAMBOANGA CITY</td>\n",
       "      <td>None</td>\n",
       "      <td>Unclaimed Area under Jurisdiction of Zamboanga...</td>\n",
       "      <td>POLYGON ((122.09483 7.16454, 122.09496 7.18130...</td>\n",
       "    </tr>\n",
       "    <tr>\n",
       "      <th>98</th>\n",
       "      <td>PH090000000</td>\n",
       "      <td>REGION IX (ZAMBOANGA PENINSULA)</td>\n",
       "      <td>PH097300000</td>\n",
       "      <td>ZAMBOANGA DEL SUR</td>\n",
       "      <td>PH097332000</td>\n",
       "      <td>ZAMBOANGA CITY</td>\n",
       "      <td>None</td>\n",
       "      <td>Unclaimed Area under Jurisdiction of Zamboanga...</td>\n",
       "      <td>POLYGON ((122.19224 7.26845, 122.19085 7.26891...</td>\n",
       "    </tr>\n",
       "  </tbody>\n",
       "</table>\n",
       "</div>"
      ],
      "text/plain": [
       "     ADM1_PCODE                          ADM1_EN   ADM2_PCODE  \\\n",
       "97  PH090000000  REGION IX (ZAMBOANGA PENINSULA)  PH097300000   \n",
       "98  PH090000000  REGION IX (ZAMBOANGA PENINSULA)  PH097300000   \n",
       "\n",
       "              ADM2_EN   ADM3_PCODE         ADM3_EN ADM4_PCODE  \\\n",
       "97  ZAMBOANGA DEL SUR  PH097332000  ZAMBOANGA CITY       None   \n",
       "98  ZAMBOANGA DEL SUR  PH097332000  ZAMBOANGA CITY       None   \n",
       "\n",
       "                                              ADM4_EN  \\\n",
       "97  Unclaimed Area under Jurisdiction of Zamboanga...   \n",
       "98  Unclaimed Area under Jurisdiction of Zamboanga...   \n",
       "\n",
       "                                             geometry  \n",
       "97  POLYGON ((122.09483 7.16454, 122.09496 7.18130...  \n",
       "98  POLYGON ((122.19224 7.26845, 122.19085 7.26891...  "
      ]
     },
     "execution_count": 7,
     "metadata": {},
     "output_type": "execute_result"
    }
   ],
   "source": [
    "# check for duplicates\n",
    "brgy_gdf.loc[brgy_gdf.loc[:,brgy_cols].duplicated(keep = False),:]"
   ]
  },
  {
   "cell_type": "code",
   "execution_count": 8,
   "id": "a73c1f97",
   "metadata": {},
   "outputs": [
    {
     "data": {
      "text/html": [
       "<div>\n",
       "<style scoped>\n",
       "    .dataframe tbody tr th:only-of-type {\n",
       "        vertical-align: middle;\n",
       "    }\n",
       "\n",
       "    .dataframe tbody tr th {\n",
       "        vertical-align: top;\n",
       "    }\n",
       "\n",
       "    .dataframe thead th {\n",
       "        text-align: right;\n",
       "    }\n",
       "</style>\n",
       "<table border=\"1\" class=\"dataframe\">\n",
       "  <thead>\n",
       "    <tr style=\"text-align: right;\">\n",
       "      <th></th>\n",
       "      <th>ADM1_PCODE</th>\n",
       "      <th>ADM1_EN</th>\n",
       "      <th>ADM2_PCODE</th>\n",
       "      <th>ADM2_EN</th>\n",
       "      <th>ADM3_PCODE</th>\n",
       "      <th>ADM3_EN</th>\n",
       "      <th>ADM4_PCODE</th>\n",
       "      <th>ADM4_EN</th>\n",
       "      <th>geometry</th>\n",
       "    </tr>\n",
       "  </thead>\n",
       "  <tbody>\n",
       "  </tbody>\n",
       "</table>\n",
       "</div>"
      ],
      "text/plain": [
       "Empty GeoDataFrame\n",
       "Columns: [ADM1_PCODE, ADM1_EN, ADM2_PCODE, ADM2_EN, ADM3_PCODE, ADM3_EN, ADM4_PCODE, ADM4_EN, geometry]\n",
       "Index: []"
      ]
     },
     "execution_count": 8,
     "metadata": {},
     "output_type": "execute_result"
    }
   ],
   "source": [
    "# removing duplicates\n",
    "brgy_gdf = brgy_gdf.loc[~brgy_gdf.loc[:,brgy_cols].duplicated(),:]\n",
    "brgy_gdf.loc[brgy_gdf.loc[:,brgy_cols].duplicated(keep = False),:]"
   ]
  },
  {
   "cell_type": "code",
   "execution_count": 9,
   "id": "87b25b76",
   "metadata": {},
   "outputs": [
    {
     "data": {
      "text/plain": [
       "<Geographic 2D CRS: EPSG:4326>\n",
       "Name: WGS 84\n",
       "Axis Info [ellipsoidal]:\n",
       "- Lat[north]: Geodetic latitude (degree)\n",
       "- Lon[east]: Geodetic longitude (degree)\n",
       "Area of Use:\n",
       "- name: World.\n",
       "- bounds: (-180.0, -90.0, 180.0, 90.0)\n",
       "Datum: World Geodetic System 1984\n",
       "- Ellipsoid: WGS 84\n",
       "- Prime Meridian: Greenwich"
      ]
     },
     "execution_count": 9,
     "metadata": {},
     "output_type": "execute_result"
    }
   ],
   "source": [
    "# set coordinate system to be epsg:4326, the default latitude longitude\n",
    "brgy_gdf = brgy_gdf.set_crs(crs = \"epsg:4326\")\n",
    "brgy_gdf.crs"
   ]
  },
  {
   "cell_type": "code",
   "execution_count": 10,
   "id": "774b58e2",
   "metadata": {},
   "outputs": [],
   "source": [
    "# write brgy to geojson\n",
    "brgy_gdf.to_file('output/ph_brgys.geojson', driver='GeoJSON')"
   ]
  },
  {
   "cell_type": "markdown",
   "id": "ecc06417",
   "metadata": {},
   "source": [
    "# Importing City/Municipality Data\n",
    "\n",
    "The barangay files were obtained from [this source](https://github.com/faeldon/philippines-json-maps/tree/master/topojson/municities/hires)"
   ]
  },
  {
   "cell_type": "code",
   "execution_count": 11,
   "id": "ab2ed332",
   "metadata": {},
   "outputs": [
    {
     "data": {
      "text/plain": [
       "87"
      ]
     },
     "execution_count": 11,
     "metadata": {},
     "output_type": "execute_result"
    }
   ],
   "source": [
    "munis_folder = 'philippines-json-maps-master/topojson/municities/hires'\n",
    "munis_json = os.listdir(munis_folder)\n",
    "munis_json = [f\"{munis_folder}/{fs}\" for fs in munis_json]\n",
    "len(munis_json)"
   ]
  },
  {
   "cell_type": "code",
   "execution_count": 12,
   "id": "6d5aba6a",
   "metadata": {},
   "outputs": [
    {
     "data": {
      "text/html": [
       "<div>\n",
       "<style scoped>\n",
       "    .dataframe tbody tr th:only-of-type {\n",
       "        vertical-align: middle;\n",
       "    }\n",
       "\n",
       "    .dataframe tbody tr th {\n",
       "        vertical-align: top;\n",
       "    }\n",
       "\n",
       "    .dataframe thead th {\n",
       "        text-align: right;\n",
       "    }\n",
       "</style>\n",
       "<table border=\"1\" class=\"dataframe\">\n",
       "  <thead>\n",
       "    <tr style=\"text-align: right;\">\n",
       "      <th></th>\n",
       "    </tr>\n",
       "  </thead>\n",
       "  <tbody>\n",
       "  </tbody>\n",
       "</table>\n",
       "</div>"
      ],
      "text/plain": [
       "Empty GeoDataFrame\n",
       "Columns: []\n",
       "Index: []"
      ]
     },
     "execution_count": 12,
     "metadata": {},
     "output_type": "execute_result"
    }
   ],
   "source": [
    "muni_gdf = gpd.GeoDataFrame({})\n",
    "muni_gdf.head()"
   ]
  },
  {
   "cell_type": "code",
   "execution_count": 13,
   "id": "3071dce5",
   "metadata": {},
   "outputs": [
    {
     "name": "stderr",
     "output_type": "stream",
     "text": [
      "100%|██████████| 87/87 [00:05<00:00, 15.06it/s]\n"
     ]
    },
    {
     "data": {
      "text/html": [
       "<div>\n",
       "<style scoped>\n",
       "    .dataframe tbody tr th:only-of-type {\n",
       "        vertical-align: middle;\n",
       "    }\n",
       "\n",
       "    .dataframe tbody tr th {\n",
       "        vertical-align: top;\n",
       "    }\n",
       "\n",
       "    .dataframe thead th {\n",
       "        text-align: right;\n",
       "    }\n",
       "</style>\n",
       "<table border=\"1\" class=\"dataframe\">\n",
       "  <thead>\n",
       "    <tr style=\"text-align: right;\">\n",
       "      <th></th>\n",
       "      <th>id</th>\n",
       "      <th>Shape_Leng</th>\n",
       "      <th>Shape_Area</th>\n",
       "      <th>ADM3_EN</th>\n",
       "      <th>ADM3_PCODE</th>\n",
       "      <th>ADM3_REF</th>\n",
       "      <th>ADM3ALT1EN</th>\n",
       "      <th>ADM3ALT2EN</th>\n",
       "      <th>ADM2_EN</th>\n",
       "      <th>ADM2_PCODE</th>\n",
       "      <th>ADM1_EN</th>\n",
       "      <th>ADM1_PCODE</th>\n",
       "      <th>ADM0_EN</th>\n",
       "      <th>ADM0_PCODE</th>\n",
       "      <th>date</th>\n",
       "      <th>validOn</th>\n",
       "      <th>geometry</th>\n",
       "    </tr>\n",
       "  </thead>\n",
       "  <tbody>\n",
       "    <tr>\n",
       "      <th>0</th>\n",
       "      <td>None</td>\n",
       "      <td>0.471963</td>\n",
       "      <td>0.005857</td>\n",
       "      <td>Alcantara</td>\n",
       "      <td>PH175901000</td>\n",
       "      <td>None</td>\n",
       "      <td>None</td>\n",
       "      <td>None</td>\n",
       "      <td>Romblon</td>\n",
       "      <td>PH175900000</td>\n",
       "      <td>Region IV-B</td>\n",
       "      <td>PH170000000</td>\n",
       "      <td>Philippines (the)</td>\n",
       "      <td>PH</td>\n",
       "      <td>2016-06-15</td>\n",
       "      <td>2018-01-30</td>\n",
       "      <td>POLYGON ((122.09617 12.35427, 122.09609 12.354...</td>\n",
       "    </tr>\n",
       "    <tr>\n",
       "      <th>1</th>\n",
       "      <td>None</td>\n",
       "      <td>0.288515</td>\n",
       "      <td>0.002384</td>\n",
       "      <td>Banton</td>\n",
       "      <td>PH175902000</td>\n",
       "      <td>None</td>\n",
       "      <td>None</td>\n",
       "      <td>None</td>\n",
       "      <td>Romblon</td>\n",
       "      <td>PH175900000</td>\n",
       "      <td>Region IV-B</td>\n",
       "      <td>PH170000000</td>\n",
       "      <td>Philippines (the)</td>\n",
       "      <td>PH</td>\n",
       "      <td>2016-06-15</td>\n",
       "      <td>2018-01-30</td>\n",
       "      <td>POLYGON ((122.06152 12.96302, 122.06178 12.962...</td>\n",
       "    </tr>\n",
       "    <tr>\n",
       "      <th>2</th>\n",
       "      <td>None</td>\n",
       "      <td>0.536131</td>\n",
       "      <td>0.010599</td>\n",
       "      <td>Cajidiocan</td>\n",
       "      <td>PH175903000</td>\n",
       "      <td>None</td>\n",
       "      <td>None</td>\n",
       "      <td>None</td>\n",
       "      <td>Romblon</td>\n",
       "      <td>PH175900000</td>\n",
       "      <td>Region IV-B</td>\n",
       "      <td>PH170000000</td>\n",
       "      <td>Philippines (the)</td>\n",
       "      <td>PH</td>\n",
       "      <td>2016-06-15</td>\n",
       "      <td>2018-01-30</td>\n",
       "      <td>POLYGON ((122.67014 12.31087, 122.66968 12.311...</td>\n",
       "    </tr>\n",
       "    <tr>\n",
       "      <th>3</th>\n",
       "      <td>None</td>\n",
       "      <td>0.453908</td>\n",
       "      <td>0.003164</td>\n",
       "      <td>Calatrava</td>\n",
       "      <td>PH175904000</td>\n",
       "      <td>None</td>\n",
       "      <td>None</td>\n",
       "      <td>None</td>\n",
       "      <td>Romblon</td>\n",
       "      <td>PH175900000</td>\n",
       "      <td>Region IV-B</td>\n",
       "      <td>PH170000000</td>\n",
       "      <td>Philippines (the)</td>\n",
       "      <td>PH</td>\n",
       "      <td>2016-06-15</td>\n",
       "      <td>2018-01-30</td>\n",
       "      <td>POLYGON ((122.12886 12.66333, 122.12288 12.654...</td>\n",
       "    </tr>\n",
       "    <tr>\n",
       "      <th>4</th>\n",
       "      <td>None</td>\n",
       "      <td>0.321120</td>\n",
       "      <td>0.001699</td>\n",
       "      <td>Concepcion</td>\n",
       "      <td>PH175905000</td>\n",
       "      <td>None</td>\n",
       "      <td>None</td>\n",
       "      <td>None</td>\n",
       "      <td>Romblon</td>\n",
       "      <td>PH175900000</td>\n",
       "      <td>Region IV-B</td>\n",
       "      <td>PH170000000</td>\n",
       "      <td>Philippines (the)</td>\n",
       "      <td>PH</td>\n",
       "      <td>2016-06-15</td>\n",
       "      <td>2018-01-30</td>\n",
       "      <td>POLYGON ((121.70535 12.94911, 121.70551 12.948...</td>\n",
       "    </tr>\n",
       "  </tbody>\n",
       "</table>\n",
       "</div>"
      ],
      "text/plain": [
       "     id  Shape_Leng  Shape_Area     ADM3_EN   ADM3_PCODE ADM3_REF ADM3ALT1EN  \\\n",
       "0  None    0.471963    0.005857   Alcantara  PH175901000     None       None   \n",
       "1  None    0.288515    0.002384      Banton  PH175902000     None       None   \n",
       "2  None    0.536131    0.010599  Cajidiocan  PH175903000     None       None   \n",
       "3  None    0.453908    0.003164   Calatrava  PH175904000     None       None   \n",
       "4  None    0.321120    0.001699  Concepcion  PH175905000     None       None   \n",
       "\n",
       "  ADM3ALT2EN  ADM2_EN   ADM2_PCODE      ADM1_EN   ADM1_PCODE  \\\n",
       "0       None  Romblon  PH175900000  Region IV-B  PH170000000   \n",
       "1       None  Romblon  PH175900000  Region IV-B  PH170000000   \n",
       "2       None  Romblon  PH175900000  Region IV-B  PH170000000   \n",
       "3       None  Romblon  PH175900000  Region IV-B  PH170000000   \n",
       "4       None  Romblon  PH175900000  Region IV-B  PH170000000   \n",
       "\n",
       "             ADM0_EN ADM0_PCODE        date     validOn  \\\n",
       "0  Philippines (the)         PH  2016-06-15  2018-01-30   \n",
       "1  Philippines (the)         PH  2016-06-15  2018-01-30   \n",
       "2  Philippines (the)         PH  2016-06-15  2018-01-30   \n",
       "3  Philippines (the)         PH  2016-06-15  2018-01-30   \n",
       "4  Philippines (the)         PH  2016-06-15  2018-01-30   \n",
       "\n",
       "                                            geometry  \n",
       "0  POLYGON ((122.09617 12.35427, 122.09609 12.354...  \n",
       "1  POLYGON ((122.06152 12.96302, 122.06178 12.962...  \n",
       "2  POLYGON ((122.67014 12.31087, 122.66968 12.311...  \n",
       "3  POLYGON ((122.12886 12.66333, 122.12288 12.654...  \n",
       "4  POLYGON ((121.70535 12.94911, 121.70551 12.948...  "
      ]
     },
     "execution_count": 13,
     "metadata": {},
     "output_type": "execute_result"
    }
   ],
   "source": [
    "# create a geodataframe from that contains all barangays\n",
    "for muni_json in tqdm(munis_json):\n",
    "    new_gdf = gpd.GeoDataFrame.from_file(muni_json)\n",
    "    muni_gdf = muni_gdf.append(new_gdf)\n",
    "muni_gdf.head()"
   ]
  },
  {
   "cell_type": "code",
   "execution_count": 14,
   "id": "5c3afa6b",
   "metadata": {},
   "outputs": [],
   "source": [
    "# drop null columns\n",
    "if muni_gdf[\"id\"].isnull().all():\n",
    "    muni_gdf = muni_gdf.drop(columns = \"id\")"
   ]
  },
  {
   "cell_type": "code",
   "execution_count": 15,
   "id": "0f295313",
   "metadata": {},
   "outputs": [
    {
     "data": {
      "text/plain": [
       "['Shape_Leng',\n",
       " 'Shape_Area',\n",
       " 'ADM3_EN',\n",
       " 'ADM3_PCODE',\n",
       " 'ADM3_REF',\n",
       " 'ADM3ALT1EN',\n",
       " 'ADM3ALT2EN',\n",
       " 'ADM2_EN',\n",
       " 'ADM2_PCODE',\n",
       " 'ADM1_EN',\n",
       " 'ADM1_PCODE',\n",
       " 'ADM0_EN',\n",
       " 'ADM0_PCODE',\n",
       " 'date',\n",
       " 'validOn']"
      ]
     },
     "execution_count": 15,
     "metadata": {},
     "output_type": "execute_result"
    }
   ],
   "source": [
    "# these columns will serve as the primary key\n",
    "muni_cols = [col for col in muni_gdf.columns if col != \"geometry\"]\n",
    "muni_cols"
   ]
  },
  {
   "cell_type": "code",
   "execution_count": 16,
   "id": "706b6a8c",
   "metadata": {},
   "outputs": [
    {
     "data": {
      "text/html": [
       "<div>\n",
       "<style scoped>\n",
       "    .dataframe tbody tr th:only-of-type {\n",
       "        vertical-align: middle;\n",
       "    }\n",
       "\n",
       "    .dataframe tbody tr th {\n",
       "        vertical-align: top;\n",
       "    }\n",
       "\n",
       "    .dataframe thead th {\n",
       "        text-align: right;\n",
       "    }\n",
       "</style>\n",
       "<table border=\"1\" class=\"dataframe\">\n",
       "  <thead>\n",
       "    <tr style=\"text-align: right;\">\n",
       "      <th></th>\n",
       "      <th>Shape_Leng</th>\n",
       "      <th>Shape_Area</th>\n",
       "      <th>ADM3_EN</th>\n",
       "      <th>ADM3_PCODE</th>\n",
       "      <th>ADM3_REF</th>\n",
       "      <th>ADM3ALT1EN</th>\n",
       "      <th>ADM3ALT2EN</th>\n",
       "      <th>ADM2_EN</th>\n",
       "      <th>ADM2_PCODE</th>\n",
       "      <th>ADM1_EN</th>\n",
       "      <th>ADM1_PCODE</th>\n",
       "      <th>ADM0_EN</th>\n",
       "      <th>ADM0_PCODE</th>\n",
       "      <th>date</th>\n",
       "      <th>validOn</th>\n",
       "      <th>geometry</th>\n",
       "    </tr>\n",
       "  </thead>\n",
       "  <tbody>\n",
       "  </tbody>\n",
       "</table>\n",
       "</div>"
      ],
      "text/plain": [
       "Empty GeoDataFrame\n",
       "Columns: [Shape_Leng, Shape_Area, ADM3_EN, ADM3_PCODE, ADM3_REF, ADM3ALT1EN, ADM3ALT2EN, ADM2_EN, ADM2_PCODE, ADM1_EN, ADM1_PCODE, ADM0_EN, ADM0_PCODE, date, validOn, geometry]\n",
       "Index: []"
      ]
     },
     "execution_count": 16,
     "metadata": {},
     "output_type": "execute_result"
    }
   ],
   "source": [
    "# check for duplicates\n",
    "muni_gdf.loc[muni_gdf.loc[:,muni_cols].duplicated(keep = False),:]"
   ]
  },
  {
   "cell_type": "code",
   "execution_count": 17,
   "id": "b8b1bac1",
   "metadata": {},
   "outputs": [
    {
     "data": {
      "text/html": [
       "<div>\n",
       "<style scoped>\n",
       "    .dataframe tbody tr th:only-of-type {\n",
       "        vertical-align: middle;\n",
       "    }\n",
       "\n",
       "    .dataframe tbody tr th {\n",
       "        vertical-align: top;\n",
       "    }\n",
       "\n",
       "    .dataframe thead th {\n",
       "        text-align: right;\n",
       "    }\n",
       "</style>\n",
       "<table border=\"1\" class=\"dataframe\">\n",
       "  <thead>\n",
       "    <tr style=\"text-align: right;\">\n",
       "      <th></th>\n",
       "      <th>Shape_Leng</th>\n",
       "      <th>Shape_Area</th>\n",
       "      <th>ADM3_EN</th>\n",
       "      <th>ADM3_PCODE</th>\n",
       "      <th>ADM3_REF</th>\n",
       "      <th>ADM3ALT1EN</th>\n",
       "      <th>ADM3ALT2EN</th>\n",
       "      <th>ADM2_EN</th>\n",
       "      <th>ADM2_PCODE</th>\n",
       "      <th>ADM1_EN</th>\n",
       "      <th>ADM1_PCODE</th>\n",
       "      <th>ADM0_EN</th>\n",
       "      <th>ADM0_PCODE</th>\n",
       "      <th>date</th>\n",
       "      <th>validOn</th>\n",
       "      <th>geometry</th>\n",
       "    </tr>\n",
       "  </thead>\n",
       "  <tbody>\n",
       "  </tbody>\n",
       "</table>\n",
       "</div>"
      ],
      "text/plain": [
       "Empty GeoDataFrame\n",
       "Columns: [Shape_Leng, Shape_Area, ADM3_EN, ADM3_PCODE, ADM3_REF, ADM3ALT1EN, ADM3ALT2EN, ADM2_EN, ADM2_PCODE, ADM1_EN, ADM1_PCODE, ADM0_EN, ADM0_PCODE, date, validOn, geometry]\n",
       "Index: []"
      ]
     },
     "execution_count": 17,
     "metadata": {},
     "output_type": "execute_result"
    }
   ],
   "source": [
    "# removing duplicates\n",
    "muni_gdf = muni_gdf.loc[~muni_gdf.loc[:,muni_cols].duplicated(),:]\n",
    "muni_gdf.loc[muni_gdf.loc[:,muni_cols].duplicated(keep = False),:]"
   ]
  },
  {
   "cell_type": "code",
   "execution_count": 18,
   "id": "3de19f58",
   "metadata": {},
   "outputs": [
    {
     "data": {
      "text/plain": [
       "<Geographic 2D CRS: EPSG:4326>\n",
       "Name: WGS 84\n",
       "Axis Info [ellipsoidal]:\n",
       "- Lat[north]: Geodetic latitude (degree)\n",
       "- Lon[east]: Geodetic longitude (degree)\n",
       "Area of Use:\n",
       "- name: World.\n",
       "- bounds: (-180.0, -90.0, 180.0, 90.0)\n",
       "Datum: World Geodetic System 1984\n",
       "- Ellipsoid: WGS 84\n",
       "- Prime Meridian: Greenwich"
      ]
     },
     "execution_count": 18,
     "metadata": {},
     "output_type": "execute_result"
    }
   ],
   "source": [
    "# set coordinate system to be epsg:4326, the default latitude longitude\n",
    "muni_gdf = muni_gdf.set_crs(crs = \"epsg:4326\")\n",
    "muni_gdf.crs"
   ]
  },
  {
   "cell_type": "code",
   "execution_count": 19,
   "id": "cf3747dd",
   "metadata": {},
   "outputs": [],
   "source": [
    "# write muni to geojson\n",
    "muni_gdf.to_file('output/ph_municities.geojson', driver='GeoJSON')"
   ]
  },
  {
   "cell_type": "code",
   "execution_count": null,
   "id": "337c1298",
   "metadata": {},
   "outputs": [],
   "source": []
  }
 ],
 "metadata": {
  "kernelspec": {
   "display_name": "Python [conda env:crea_assignment]",
   "language": "python",
   "name": "conda-env-crea_assignment-py"
  },
  "language_info": {
   "codemirror_mode": {
    "name": "ipython",
    "version": 3
   },
   "file_extension": ".py",
   "mimetype": "text/x-python",
   "name": "python",
   "nbconvert_exporter": "python",
   "pygments_lexer": "ipython3",
   "version": "3.9.5"
  }
 },
 "nbformat": 4,
 "nbformat_minor": 5
}
